{
  "nbformat": 4,
  "nbformat_minor": 0,
  "metadata": {
    "colab": {
      "provenance": [],
      "mount_file_id": "1ck0BWP8t2BRRLRdMccnAEaHy35EgmMwo",
      "authorship_tag": "ABX9TyMyzl5x1ndX1yrOE4SAydXe",
      "include_colab_link": true
    },
    "kernelspec": {
      "name": "python3",
      "display_name": "Python 3"
    },
    "language_info": {
      "name": "python"
    }
  },
  "cells": [
    {
      "cell_type": "markdown",
      "metadata": {
        "id": "view-in-github",
        "colab_type": "text"
      },
      "source": [
        "<a href=\"https://colab.research.google.com/github/killerbeelsl/weather_temperature_prediction_with_transformer/blob/main/data_preprocessing.ipynb\" target=\"_parent\"><img src=\"https://colab.research.google.com/assets/colab-badge.svg\" alt=\"Open In Colab\"/></a>"
      ]
    },
    {
      "cell_type": "code",
      "execution_count": 28,
      "metadata": {
        "id": "jvWFcjvOuIWp"
      },
      "outputs": [],
      "source": [
        "import pandas as pd\n",
        "import numpy as np\n",
        "from sklearn.preprocessing import MinMaxScaler, OneHotEncoder\n",
        "from sklearn.model_selection import train_test_split\n",
        "import torch\n",
        "import torch.nn as nn\n",
        "from torch.utils.data import Dataset, DataLoader, TensorDataset"
      ]
    },
    {
      "cell_type": "code",
      "source": [
        "df = pd.read_csv('output_merged_no_filter_5000.csv')\n",
        "df = df.sort_values(by=['ID', 'YEAR', 'MONTH'])"
      ],
      "metadata": {
        "id": "eCylB-fVxnsD"
      },
      "execution_count": 156,
      "outputs": []
    },
    {
      "cell_type": "code",
      "source": [
        "df = df[:5000]"
      ],
      "metadata": {
        "id": "n_pqpyDRxvCY"
      },
      "execution_count": 199,
      "outputs": []
    },
    {
      "cell_type": "code",
      "source": [
        "# Remove rows where 'VALUE' is -9999\n",
        "df = df[df['VALUE'] != -9999]"
      ],
      "metadata": {
        "id": "Mj9INRhdcmw7"
      },
      "execution_count": 200,
      "outputs": []
    },
    {
      "cell_type": "code",
      "source": [
        "data = df.copy()"
      ],
      "metadata": {
        "id": "foTUvyDqcWx9"
      },
      "execution_count": 212,
      "outputs": []
    },
    {
      "cell_type": "code",
      "source": [
        "data[\"VALUE\"] = data[\"VALUE\"].apply(lambda x: x/100)"
      ],
      "metadata": {
        "id": "KDOQKpzl0xRZ"
      },
      "execution_count": 213,
      "outputs": []
    },
    {
      "cell_type": "code",
      "source": [],
      "metadata": {
        "id": "vbKOLcvccu0i"
      },
      "execution_count": 213,
      "outputs": []
    },
    {
      "cell_type": "code",
      "source": [
        "data"
      ],
      "metadata": {
        "colab": {
          "base_uri": "https://localhost:8080/",
          "height": 424
        },
        "id": "89wSCr68fKWx",
        "outputId": "0ddc2286-6f07-4ceb-d0b9-ab0635943999"
      },
      "execution_count": 214,
      "outputs": [
        {
          "output_type": "execute_result",
          "data": {
            "text/plain": [
              "               ID  YEAR  MONTH  VALUE DMFLAG QCFLAG  LATITUDE  LONGITUDE  \\\n",
              "0     ACW00011604  1961      1  -0.78    NaN    NaN  1.000000   0.553626   \n",
              "1     ACW00011604  1961      2   2.47    NaN    NaN  1.000000   0.553626   \n",
              "2     ACW00011604  1961      3   4.83    NaN    NaN  1.000000   0.553626   \n",
              "3     ACW00011604  1961      4   7.84    NaN    NaN  1.000000   0.553626   \n",
              "4     ACW00011604  1961      5  11.39    NaN    NaN  1.000000   0.553626   \n",
              "...           ...   ...    ...    ...    ...    ...       ...        ...   \n",
              "4995  ASN00014507  1961      1  28.93      E    NaN  0.364042   0.931293   \n",
              "4996  ASN00014507  1961      2  29.25      E    NaN  0.364042   0.931293   \n",
              "4997  ASN00014507  1961      3  28.71      E    NaN  0.364042   0.931293   \n",
              "4998  ASN00014507  1961      4  27.48      E    NaN  0.364042   0.931293   \n",
              "4999  ASN00014507  1961      5  24.81      E    NaN  0.364042   0.931293   \n",
              "\n",
              "       STNELEV              NAME  \n",
              "0     0.003992              SAVE  \n",
              "1     0.003992              SAVE  \n",
              "2     0.003992              SAVE  \n",
              "3     0.003992              SAVE  \n",
              "4     0.003992              SAVE  \n",
              "...        ...               ...  \n",
              "4995  0.004191  ALYANGULA_POLICE  \n",
              "4996  0.004191  ALYANGULA_POLICE  \n",
              "4997  0.004191  ALYANGULA_POLICE  \n",
              "4998  0.004191  ALYANGULA_POLICE  \n",
              "4999  0.004191  ALYANGULA_POLICE  \n",
              "\n",
              "[4984 rows x 10 columns]"
            ],
            "text/html": [
              "\n",
              "  <div id=\"df-5acda469-fdea-40d6-a27a-2a61d65d4c18\" class=\"colab-df-container\">\n",
              "    <div>\n",
              "<style scoped>\n",
              "    .dataframe tbody tr th:only-of-type {\n",
              "        vertical-align: middle;\n",
              "    }\n",
              "\n",
              "    .dataframe tbody tr th {\n",
              "        vertical-align: top;\n",
              "    }\n",
              "\n",
              "    .dataframe thead th {\n",
              "        text-align: right;\n",
              "    }\n",
              "</style>\n",
              "<table border=\"1\" class=\"dataframe\">\n",
              "  <thead>\n",
              "    <tr style=\"text-align: right;\">\n",
              "      <th></th>\n",
              "      <th>ID</th>\n",
              "      <th>YEAR</th>\n",
              "      <th>MONTH</th>\n",
              "      <th>VALUE</th>\n",
              "      <th>DMFLAG</th>\n",
              "      <th>QCFLAG</th>\n",
              "      <th>LATITUDE</th>\n",
              "      <th>LONGITUDE</th>\n",
              "      <th>STNELEV</th>\n",
              "      <th>NAME</th>\n",
              "    </tr>\n",
              "  </thead>\n",
              "  <tbody>\n",
              "    <tr>\n",
              "      <th>0</th>\n",
              "      <td>ACW00011604</td>\n",
              "      <td>1961</td>\n",
              "      <td>1</td>\n",
              "      <td>-0.78</td>\n",
              "      <td>NaN</td>\n",
              "      <td>NaN</td>\n",
              "      <td>1.000000</td>\n",
              "      <td>0.553626</td>\n",
              "      <td>0.003992</td>\n",
              "      <td>SAVE</td>\n",
              "    </tr>\n",
              "    <tr>\n",
              "      <th>1</th>\n",
              "      <td>ACW00011604</td>\n",
              "      <td>1961</td>\n",
              "      <td>2</td>\n",
              "      <td>2.47</td>\n",
              "      <td>NaN</td>\n",
              "      <td>NaN</td>\n",
              "      <td>1.000000</td>\n",
              "      <td>0.553626</td>\n",
              "      <td>0.003992</td>\n",
              "      <td>SAVE</td>\n",
              "    </tr>\n",
              "    <tr>\n",
              "      <th>2</th>\n",
              "      <td>ACW00011604</td>\n",
              "      <td>1961</td>\n",
              "      <td>3</td>\n",
              "      <td>4.83</td>\n",
              "      <td>NaN</td>\n",
              "      <td>NaN</td>\n",
              "      <td>1.000000</td>\n",
              "      <td>0.553626</td>\n",
              "      <td>0.003992</td>\n",
              "      <td>SAVE</td>\n",
              "    </tr>\n",
              "    <tr>\n",
              "      <th>3</th>\n",
              "      <td>ACW00011604</td>\n",
              "      <td>1961</td>\n",
              "      <td>4</td>\n",
              "      <td>7.84</td>\n",
              "      <td>NaN</td>\n",
              "      <td>NaN</td>\n",
              "      <td>1.000000</td>\n",
              "      <td>0.553626</td>\n",
              "      <td>0.003992</td>\n",
              "      <td>SAVE</td>\n",
              "    </tr>\n",
              "    <tr>\n",
              "      <th>4</th>\n",
              "      <td>ACW00011604</td>\n",
              "      <td>1961</td>\n",
              "      <td>5</td>\n",
              "      <td>11.39</td>\n",
              "      <td>NaN</td>\n",
              "      <td>NaN</td>\n",
              "      <td>1.000000</td>\n",
              "      <td>0.553626</td>\n",
              "      <td>0.003992</td>\n",
              "      <td>SAVE</td>\n",
              "    </tr>\n",
              "    <tr>\n",
              "      <th>...</th>\n",
              "      <td>...</td>\n",
              "      <td>...</td>\n",
              "      <td>...</td>\n",
              "      <td>...</td>\n",
              "      <td>...</td>\n",
              "      <td>...</td>\n",
              "      <td>...</td>\n",
              "      <td>...</td>\n",
              "      <td>...</td>\n",
              "      <td>...</td>\n",
              "    </tr>\n",
              "    <tr>\n",
              "      <th>4995</th>\n",
              "      <td>ASN00014507</td>\n",
              "      <td>1961</td>\n",
              "      <td>1</td>\n",
              "      <td>28.93</td>\n",
              "      <td>E</td>\n",
              "      <td>NaN</td>\n",
              "      <td>0.364042</td>\n",
              "      <td>0.931293</td>\n",
              "      <td>0.004191</td>\n",
              "      <td>ALYANGULA_POLICE</td>\n",
              "    </tr>\n",
              "    <tr>\n",
              "      <th>4996</th>\n",
              "      <td>ASN00014507</td>\n",
              "      <td>1961</td>\n",
              "      <td>2</td>\n",
              "      <td>29.25</td>\n",
              "      <td>E</td>\n",
              "      <td>NaN</td>\n",
              "      <td>0.364042</td>\n",
              "      <td>0.931293</td>\n",
              "      <td>0.004191</td>\n",
              "      <td>ALYANGULA_POLICE</td>\n",
              "    </tr>\n",
              "    <tr>\n",
              "      <th>4997</th>\n",
              "      <td>ASN00014507</td>\n",
              "      <td>1961</td>\n",
              "      <td>3</td>\n",
              "      <td>28.71</td>\n",
              "      <td>E</td>\n",
              "      <td>NaN</td>\n",
              "      <td>0.364042</td>\n",
              "      <td>0.931293</td>\n",
              "      <td>0.004191</td>\n",
              "      <td>ALYANGULA_POLICE</td>\n",
              "    </tr>\n",
              "    <tr>\n",
              "      <th>4998</th>\n",
              "      <td>ASN00014507</td>\n",
              "      <td>1961</td>\n",
              "      <td>4</td>\n",
              "      <td>27.48</td>\n",
              "      <td>E</td>\n",
              "      <td>NaN</td>\n",
              "      <td>0.364042</td>\n",
              "      <td>0.931293</td>\n",
              "      <td>0.004191</td>\n",
              "      <td>ALYANGULA_POLICE</td>\n",
              "    </tr>\n",
              "    <tr>\n",
              "      <th>4999</th>\n",
              "      <td>ASN00014507</td>\n",
              "      <td>1961</td>\n",
              "      <td>5</td>\n",
              "      <td>24.81</td>\n",
              "      <td>E</td>\n",
              "      <td>NaN</td>\n",
              "      <td>0.364042</td>\n",
              "      <td>0.931293</td>\n",
              "      <td>0.004191</td>\n",
              "      <td>ALYANGULA_POLICE</td>\n",
              "    </tr>\n",
              "  </tbody>\n",
              "</table>\n",
              "<p>4984 rows × 10 columns</p>\n",
              "</div>\n",
              "    <div class=\"colab-df-buttons\">\n",
              "\n",
              "  <div class=\"colab-df-container\">\n",
              "    <button class=\"colab-df-convert\" onclick=\"convertToInteractive('df-5acda469-fdea-40d6-a27a-2a61d65d4c18')\"\n",
              "            title=\"Convert this dataframe to an interactive table.\"\n",
              "            style=\"display:none;\">\n",
              "\n",
              "  <svg xmlns=\"http://www.w3.org/2000/svg\" height=\"24px\" viewBox=\"0 -960 960 960\">\n",
              "    <path d=\"M120-120v-720h720v720H120Zm60-500h600v-160H180v160Zm220 220h160v-160H400v160Zm0 220h160v-160H400v160ZM180-400h160v-160H180v160Zm440 0h160v-160H620v160ZM180-180h160v-160H180v160Zm440 0h160v-160H620v160Z\"/>\n",
              "  </svg>\n",
              "    </button>\n",
              "\n",
              "  <style>\n",
              "    .colab-df-container {\n",
              "      display:flex;\n",
              "      gap: 12px;\n",
              "    }\n",
              "\n",
              "    .colab-df-convert {\n",
              "      background-color: #E8F0FE;\n",
              "      border: none;\n",
              "      border-radius: 50%;\n",
              "      cursor: pointer;\n",
              "      display: none;\n",
              "      fill: #1967D2;\n",
              "      height: 32px;\n",
              "      padding: 0 0 0 0;\n",
              "      width: 32px;\n",
              "    }\n",
              "\n",
              "    .colab-df-convert:hover {\n",
              "      background-color: #E2EBFA;\n",
              "      box-shadow: 0px 1px 2px rgba(60, 64, 67, 0.3), 0px 1px 3px 1px rgba(60, 64, 67, 0.15);\n",
              "      fill: #174EA6;\n",
              "    }\n",
              "\n",
              "    .colab-df-buttons div {\n",
              "      margin-bottom: 4px;\n",
              "    }\n",
              "\n",
              "    [theme=dark] .colab-df-convert {\n",
              "      background-color: #3B4455;\n",
              "      fill: #D2E3FC;\n",
              "    }\n",
              "\n",
              "    [theme=dark] .colab-df-convert:hover {\n",
              "      background-color: #434B5C;\n",
              "      box-shadow: 0px 1px 3px 1px rgba(0, 0, 0, 0.15);\n",
              "      filter: drop-shadow(0px 1px 2px rgba(0, 0, 0, 0.3));\n",
              "      fill: #FFFFFF;\n",
              "    }\n",
              "  </style>\n",
              "\n",
              "    <script>\n",
              "      const buttonEl =\n",
              "        document.querySelector('#df-5acda469-fdea-40d6-a27a-2a61d65d4c18 button.colab-df-convert');\n",
              "      buttonEl.style.display =\n",
              "        google.colab.kernel.accessAllowed ? 'block' : 'none';\n",
              "\n",
              "      async function convertToInteractive(key) {\n",
              "        const element = document.querySelector('#df-5acda469-fdea-40d6-a27a-2a61d65d4c18');\n",
              "        const dataTable =\n",
              "          await google.colab.kernel.invokeFunction('convertToInteractive',\n",
              "                                                    [key], {});\n",
              "        if (!dataTable) return;\n",
              "\n",
              "        const docLinkHtml = 'Like what you see? Visit the ' +\n",
              "          '<a target=\"_blank\" href=https://colab.research.google.com/notebooks/data_table.ipynb>data table notebook</a>'\n",
              "          + ' to learn more about interactive tables.';\n",
              "        element.innerHTML = '';\n",
              "        dataTable['output_type'] = 'display_data';\n",
              "        await google.colab.output.renderOutput(dataTable, element);\n",
              "        const docLink = document.createElement('div');\n",
              "        docLink.innerHTML = docLinkHtml;\n",
              "        element.appendChild(docLink);\n",
              "      }\n",
              "    </script>\n",
              "  </div>\n",
              "\n",
              "\n",
              "<div id=\"df-cb0f8149-ce22-4741-b934-e5dd7469e353\">\n",
              "  <button class=\"colab-df-quickchart\" onclick=\"quickchart('df-cb0f8149-ce22-4741-b934-e5dd7469e353')\"\n",
              "            title=\"Suggest charts\"\n",
              "            style=\"display:none;\">\n",
              "\n",
              "<svg xmlns=\"http://www.w3.org/2000/svg\" height=\"24px\"viewBox=\"0 0 24 24\"\n",
              "     width=\"24px\">\n",
              "    <g>\n",
              "        <path d=\"M19 3H5c-1.1 0-2 .9-2 2v14c0 1.1.9 2 2 2h14c1.1 0 2-.9 2-2V5c0-1.1-.9-2-2-2zM9 17H7v-7h2v7zm4 0h-2V7h2v10zm4 0h-2v-4h2v4z\"/>\n",
              "    </g>\n",
              "</svg>\n",
              "  </button>\n",
              "\n",
              "<style>\n",
              "  .colab-df-quickchart {\n",
              "      --bg-color: #E8F0FE;\n",
              "      --fill-color: #1967D2;\n",
              "      --hover-bg-color: #E2EBFA;\n",
              "      --hover-fill-color: #174EA6;\n",
              "      --disabled-fill-color: #AAA;\n",
              "      --disabled-bg-color: #DDD;\n",
              "  }\n",
              "\n",
              "  [theme=dark] .colab-df-quickchart {\n",
              "      --bg-color: #3B4455;\n",
              "      --fill-color: #D2E3FC;\n",
              "      --hover-bg-color: #434B5C;\n",
              "      --hover-fill-color: #FFFFFF;\n",
              "      --disabled-bg-color: #3B4455;\n",
              "      --disabled-fill-color: #666;\n",
              "  }\n",
              "\n",
              "  .colab-df-quickchart {\n",
              "    background-color: var(--bg-color);\n",
              "    border: none;\n",
              "    border-radius: 50%;\n",
              "    cursor: pointer;\n",
              "    display: none;\n",
              "    fill: var(--fill-color);\n",
              "    height: 32px;\n",
              "    padding: 0;\n",
              "    width: 32px;\n",
              "  }\n",
              "\n",
              "  .colab-df-quickchart:hover {\n",
              "    background-color: var(--hover-bg-color);\n",
              "    box-shadow: 0 1px 2px rgba(60, 64, 67, 0.3), 0 1px 3px 1px rgba(60, 64, 67, 0.15);\n",
              "    fill: var(--button-hover-fill-color);\n",
              "  }\n",
              "\n",
              "  .colab-df-quickchart-complete:disabled,\n",
              "  .colab-df-quickchart-complete:disabled:hover {\n",
              "    background-color: var(--disabled-bg-color);\n",
              "    fill: var(--disabled-fill-color);\n",
              "    box-shadow: none;\n",
              "  }\n",
              "\n",
              "  .colab-df-spinner {\n",
              "    border: 2px solid var(--fill-color);\n",
              "    border-color: transparent;\n",
              "    border-bottom-color: var(--fill-color);\n",
              "    animation:\n",
              "      spin 1s steps(1) infinite;\n",
              "  }\n",
              "\n",
              "  @keyframes spin {\n",
              "    0% {\n",
              "      border-color: transparent;\n",
              "      border-bottom-color: var(--fill-color);\n",
              "      border-left-color: var(--fill-color);\n",
              "    }\n",
              "    20% {\n",
              "      border-color: transparent;\n",
              "      border-left-color: var(--fill-color);\n",
              "      border-top-color: var(--fill-color);\n",
              "    }\n",
              "    30% {\n",
              "      border-color: transparent;\n",
              "      border-left-color: var(--fill-color);\n",
              "      border-top-color: var(--fill-color);\n",
              "      border-right-color: var(--fill-color);\n",
              "    }\n",
              "    40% {\n",
              "      border-color: transparent;\n",
              "      border-right-color: var(--fill-color);\n",
              "      border-top-color: var(--fill-color);\n",
              "    }\n",
              "    60% {\n",
              "      border-color: transparent;\n",
              "      border-right-color: var(--fill-color);\n",
              "    }\n",
              "    80% {\n",
              "      border-color: transparent;\n",
              "      border-right-color: var(--fill-color);\n",
              "      border-bottom-color: var(--fill-color);\n",
              "    }\n",
              "    90% {\n",
              "      border-color: transparent;\n",
              "      border-bottom-color: var(--fill-color);\n",
              "    }\n",
              "  }\n",
              "</style>\n",
              "\n",
              "  <script>\n",
              "    async function quickchart(key) {\n",
              "      const quickchartButtonEl =\n",
              "        document.querySelector('#' + key + ' button');\n",
              "      quickchartButtonEl.disabled = true;  // To prevent multiple clicks.\n",
              "      quickchartButtonEl.classList.add('colab-df-spinner');\n",
              "      try {\n",
              "        const charts = await google.colab.kernel.invokeFunction(\n",
              "            'suggestCharts', [key], {});\n",
              "      } catch (error) {\n",
              "        console.error('Error during call to suggestCharts:', error);\n",
              "      }\n",
              "      quickchartButtonEl.classList.remove('colab-df-spinner');\n",
              "      quickchartButtonEl.classList.add('colab-df-quickchart-complete');\n",
              "    }\n",
              "    (() => {\n",
              "      let quickchartButtonEl =\n",
              "        document.querySelector('#df-cb0f8149-ce22-4741-b934-e5dd7469e353 button');\n",
              "      quickchartButtonEl.style.display =\n",
              "        google.colab.kernel.accessAllowed ? 'block' : 'none';\n",
              "    })();\n",
              "  </script>\n",
              "</div>\n",
              "\n",
              "  <div id=\"id_050a44ab-2a55-482d-9d2b-63febf7fe499\">\n",
              "    <style>\n",
              "      .colab-df-generate {\n",
              "        background-color: #E8F0FE;\n",
              "        border: none;\n",
              "        border-radius: 50%;\n",
              "        cursor: pointer;\n",
              "        display: none;\n",
              "        fill: #1967D2;\n",
              "        height: 32px;\n",
              "        padding: 0 0 0 0;\n",
              "        width: 32px;\n",
              "      }\n",
              "\n",
              "      .colab-df-generate:hover {\n",
              "        background-color: #E2EBFA;\n",
              "        box-shadow: 0px 1px 2px rgba(60, 64, 67, 0.3), 0px 1px 3px 1px rgba(60, 64, 67, 0.15);\n",
              "        fill: #174EA6;\n",
              "      }\n",
              "\n",
              "      [theme=dark] .colab-df-generate {\n",
              "        background-color: #3B4455;\n",
              "        fill: #D2E3FC;\n",
              "      }\n",
              "\n",
              "      [theme=dark] .colab-df-generate:hover {\n",
              "        background-color: #434B5C;\n",
              "        box-shadow: 0px 1px 3px 1px rgba(0, 0, 0, 0.15);\n",
              "        filter: drop-shadow(0px 1px 2px rgba(0, 0, 0, 0.3));\n",
              "        fill: #FFFFFF;\n",
              "      }\n",
              "    </style>\n",
              "    <button class=\"colab-df-generate\" onclick=\"generateWithVariable('data')\"\n",
              "            title=\"Generate code using this dataframe.\"\n",
              "            style=\"display:none;\">\n",
              "\n",
              "  <svg xmlns=\"http://www.w3.org/2000/svg\" height=\"24px\"viewBox=\"0 0 24 24\"\n",
              "       width=\"24px\">\n",
              "    <path d=\"M7,19H8.4L18.45,9,17,7.55,7,17.6ZM5,21V16.75L18.45,3.32a2,2,0,0,1,2.83,0l1.4,1.43a1.91,1.91,0,0,1,.58,1.4,1.91,1.91,0,0,1-.58,1.4L9.25,21ZM18.45,9,17,7.55Zm-12,3A5.31,5.31,0,0,0,4.9,8.1,5.31,5.31,0,0,0,1,6.5,5.31,5.31,0,0,0,4.9,4.9,5.31,5.31,0,0,0,6.5,1,5.31,5.31,0,0,0,8.1,4.9,5.31,5.31,0,0,0,12,6.5,5.46,5.46,0,0,0,6.5,12Z\"/>\n",
              "  </svg>\n",
              "    </button>\n",
              "    <script>\n",
              "      (() => {\n",
              "      const buttonEl =\n",
              "        document.querySelector('#id_050a44ab-2a55-482d-9d2b-63febf7fe499 button.colab-df-generate');\n",
              "      buttonEl.style.display =\n",
              "        google.colab.kernel.accessAllowed ? 'block' : 'none';\n",
              "\n",
              "      buttonEl.onclick = () => {\n",
              "        google.colab.notebook.generateWithVariable('data');\n",
              "      }\n",
              "      })();\n",
              "    </script>\n",
              "  </div>\n",
              "\n",
              "    </div>\n",
              "  </div>\n"
            ],
            "application/vnd.google.colaboratory.intrinsic+json": {
              "type": "dataframe",
              "variable_name": "data",
              "summary": "{\n  \"name\": \"data\",\n  \"rows\": 4984,\n  \"fields\": [\n    {\n      \"column\": \"ID\",\n      \"properties\": {\n        \"dtype\": \"category\",\n        \"num_unique_values\": 556,\n        \"samples\": [\n          \"ASN00009887\",\n          \"AR000087257\",\n          \"AGM00060457\"\n        ],\n        \"semantic_type\": \"\",\n        \"description\": \"\"\n      }\n    },\n    {\n      \"column\": \"YEAR\",\n      \"properties\": {\n        \"dtype\": \"number\",\n        \"std\": 0,\n        \"min\": 1961,\n        \"max\": 1961,\n        \"num_unique_values\": 1,\n        \"samples\": [\n          1961\n        ],\n        \"semantic_type\": \"\",\n        \"description\": \"\"\n      }\n    },\n    {\n      \"column\": \"MONTH\",\n      \"properties\": {\n        \"dtype\": \"number\",\n        \"std\": 2,\n        \"min\": 1,\n        \"max\": 9,\n        \"num_unique_values\": 9,\n        \"samples\": [\n          8\n        ],\n        \"semantic_type\": \"\",\n        \"description\": \"\"\n      }\n    },\n    {\n      \"column\": \"VALUE\",\n      \"properties\": {\n        \"dtype\": \"number\",\n        \"std\": 7.442464106897725,\n        \"min\": -12.2,\n        \"max\": 37.8,\n        \"num_unique_values\": 2311,\n        \"samples\": [\n          7.35\n        ],\n        \"semantic_type\": \"\",\n        \"description\": \"\"\n      }\n    },\n    {\n      \"column\": \"DMFLAG\",\n      \"properties\": {\n        \"dtype\": \"category\",\n        \"num_unique_values\": 1,\n        \"samples\": [\n          \"E\"\n        ],\n        \"semantic_type\": \"\",\n        \"description\": \"\"\n      }\n    },\n    {\n      \"column\": \"QCFLAG\",\n      \"properties\": {\n        \"dtype\": \"category\",\n        \"num_unique_values\": 2,\n        \"samples\": [\n          \"Q\"\n        ],\n        \"semantic_type\": \"\",\n        \"description\": \"\"\n      }\n    },\n    {\n      \"column\": \"LATITUDE\",\n      \"properties\": {\n        \"dtype\": \"number\",\n        \"std\": 0.2542477609360001,\n        \"min\": 0.0,\n        \"max\": 1.0,\n        \"num_unique_values\": 538,\n        \"samples\": [\n          0.2131050877499895\n        ],\n        \"semantic_type\": \"\",\n        \"description\": \"\"\n      }\n    },\n    {\n      \"column\": \"LONGITUDE\",\n      \"properties\": {\n        \"dtype\": \"number\",\n        \"std\": 0.2395768883563489,\n        \"min\": 0.0,\n        \"max\": 1.0,\n        \"num_unique_values\": 540,\n        \"samples\": [\n          0.302307458829815\n        ],\n        \"semantic_type\": \"\",\n        \"description\": \"\"\n      }\n    },\n    {\n      \"column\": \"STNELEV\",\n      \"properties\": {\n        \"dtype\": \"number\",\n        \"std\": 0.2446759105623736,\n        \"min\": 0.0,\n        \"max\": 1.0,\n        \"num_unique_values\": 383,\n        \"samples\": [\n          0.0308352459834347\n        ],\n        \"semantic_type\": \"\",\n        \"description\": \"\"\n      }\n    },\n    {\n      \"column\": \"NAME\",\n      \"properties\": {\n        \"dtype\": \"category\",\n        \"num_unique_values\": 552,\n        \"samples\": [\n          \"MANINGRIDA_AERO\"\n        ],\n        \"semantic_type\": \"\",\n        \"description\": \"\"\n      }\n    }\n  ]\n}"
            }
          },
          "metadata": {},
          "execution_count": 214
        }
      ]
    },
    {
      "cell_type": "code",
      "source": [
        "# 1. Scale numerical features\n",
        "scaler = MinMaxScaler()\n",
        "numerical_features = ['LATITUDE', 'LONGITUDE', 'STNELEV']\n",
        "data[numerical_features] = scaler.fit_transform(data[numerical_features])\n",
        "\n",
        "unchanged_features = ['YEAR', 'MONTH']\n"
      ],
      "metadata": {
        "id": "wn4StJY-zrqi"
      },
      "execution_count": 215,
      "outputs": []
    },
    {
      "cell_type": "code",
      "source": [],
      "metadata": {
        "id": "E1QLfYoqfdPc"
      },
      "execution_count": 222,
      "outputs": []
    },
    {
      "cell_type": "code",
      "source": [
        "value_scaler = MinMaxScaler()\n",
        "value_transformed = value_scaler.fit_transform(data['VALUE'].values.reshape(-1, 1)).reshape(-1)"
      ],
      "metadata": {
        "id": "1E7Ady_f01Cc"
      },
      "execution_count": 223,
      "outputs": []
    },
    {
      "cell_type": "code",
      "source": [
        "\n"
      ],
      "metadata": {
        "id": "3KCOR6qq1g9o"
      },
      "execution_count": 223,
      "outputs": []
    },
    {
      "cell_type": "code",
      "source": [
        "# 2. One-hot encode categorical features\n",
        "encoder = OneHotEncoder(handle_unknown='ignore', sparse_output=False)  # sparse=False for array output\n",
        "categorical_features = ['DMFLAG', 'QCFLAG']  # Include 'ID' for station embeddings\n",
        "encoded_features = encoder.fit_transform(data[categorical_features])"
      ],
      "metadata": {
        "id": "VzVSIUxn07-h"
      },
      "execution_count": 224,
      "outputs": []
    },
    {
      "cell_type": "code",
      "source": [
        "data = data.drop(columns=['VALUE'])"
      ],
      "metadata": {
        "id": "R1TPq111YPx_"
      },
      "execution_count": 225,
      "outputs": []
    },
    {
      "cell_type": "code",
      "source": [],
      "metadata": {
        "id": "KAE1YgPaeXk2"
      },
      "execution_count": 225,
      "outputs": []
    },
    {
      "cell_type": "code",
      "source": [
        "X = np.concatenate([data[unchanged_features].values,encoded_features,\n",
        "                   data[numerical_features].values], axis=1)\n",
        "y = value_transformed  # Target variable"
      ],
      "metadata": {
        "id": "fESpk1nX1KJG"
      },
      "execution_count": 226,
      "outputs": []
    },
    {
      "cell_type": "code",
      "source": [
        "y"
      ],
      "metadata": {
        "colab": {
          "base_uri": "https://localhost:8080/"
        },
        "id": "doYMOQmrX4aC",
        "outputId": "59dc0502-1418-497c-fff0-492f9833bb0a"
      },
      "execution_count": 227,
      "outputs": [
        {
          "output_type": "execute_result",
          "data": {
            "text/plain": [
              "array([0.2284, 0.2934, 0.3406, ..., 0.8182, 0.7936, 0.7402])"
            ]
          },
          "metadata": {},
          "execution_count": 227
        }
      ]
    },
    {
      "cell_type": "code",
      "source": [
        "num_features = X[1].shape[0]"
      ],
      "metadata": {
        "id": "iw1lKc-xBbdW"
      },
      "execution_count": 228,
      "outputs": []
    },
    {
      "cell_type": "code",
      "source": [
        "num_features"
      ],
      "metadata": {
        "colab": {
          "base_uri": "https://localhost:8080/"
        },
        "id": "A_K-mob6H7_M",
        "outputId": "022491b8-e1e9-4e44-85d5-aafed56b3363"
      },
      "execution_count": 229,
      "outputs": [
        {
          "output_type": "execute_result",
          "data": {
            "text/plain": [
              "10"
            ]
          },
          "metadata": {},
          "execution_count": 229
        }
      ]
    },
    {
      "cell_type": "code",
      "source": [
        "# --- Sequence creation ---\n",
        "sequence_length = 12  # Example sequence length (12 months)\n",
        "\n",
        "X_sequences = []\n",
        "y_sequences = []\n",
        "for i in range(sequence_length, len(X)):\n",
        "    X_sequences.append(X[i - sequence_length:i])\n",
        "    y_sequences.append(y[i])\n",
        "\n",
        "X_sequences = np.array(X_sequences)\n",
        "y_sequences = np.array(y_sequences)"
      ],
      "metadata": {
        "id": "AyppT_qV1ZcJ"
      },
      "execution_count": 230,
      "outputs": []
    },
    {
      "cell_type": "code",
      "source": [
        "# Split into training and test sets\n",
        "X_train, X_test, y_train, y_test = train_test_split(\n",
        "    X_sequences, y_sequences, test_size=0.2, random_state=42\n",
        ")\n",
        "\n",
        "# Further split training set into training and validation sets\n",
        "X_train, X_val, y_train, y_val = train_test_split( X_train, y_train, test_size=0.1, random_state=42\n",
        ")"
      ],
      "metadata": {
        "id": "EFSxlHRa4625"
      },
      "execution_count": 231,
      "outputs": []
    },
    {
      "cell_type": "code",
      "source": [
        "batch_size = 64\n",
        "num_epochs = 10"
      ],
      "metadata": {
        "id": "TGLgUSZoQsjM"
      },
      "execution_count": 232,
      "outputs": []
    },
    {
      "cell_type": "code",
      "source": [
        "# --- Create PyTorch Datasets and DataLoaders ---\n",
        "train_data = TensorDataset(torch.Tensor(X_train), torch.Tensor(y_train))\n",
        "val_data = TensorDataset(torch.Tensor(X_val), torch.Tensor(y_val))\n",
        "test_data = TensorDataset(torch.Tensor(X_test), torch.Tensor(y_test))\n",
        "\n",
        "\n",
        "train_loader = DataLoader(train_data, shuffle=True, batch_size=batch_size)\n",
        "val_loader = DataLoader(val_data, batch_size=batch_size)\n",
        "test_loader = DataLoader(test_data, batch_size=batch_size)\n"
      ],
      "metadata": {
        "id": "0nAI2vyX_UmA"
      },
      "execution_count": 233,
      "outputs": []
    },
    {
      "cell_type": "code",
      "source": [
        "# --- Define the Transformer model ---\n",
        "class TransformerModel(nn.Module):\n",
        "    def __init__(self, num_features, d_model, nhead, num_layers, dim_feedforward, dropout=0.1):\n",
        "        super(TransformerModel, self).__init__()\n",
        "        self.embedding = nn.Linear(num_features, d_model)\n",
        "        self.encoder_layer = nn.TransformerEncoderLayer(d_model, nhead, dim_feedforward, dropout,batch_first=True)\n",
        "        self.transformer_encoder = nn.TransformerEncoder(self.encoder_layer,\n",
        " num_layers)\n",
        "        self.decoder = nn.Linear(d_model, 1)  # Output layer for temperature prediction\n",
        "\n",
        "    def forward(self, src):\n",
        "        src = self.embedding(src)\n",
        "        output = self.transformer_encoder(src)\n",
        "        output = self.decoder(output[:, -1, :])  # Take the output from the last time step\n",
        "        return output\n"
      ],
      "metadata": {
        "id": "VJIIreetRLOH"
      },
      "execution_count": 234,
      "outputs": []
    },
    {
      "cell_type": "code",
      "source": [
        "# --- Model instantiation and training ---\n",
        "model = TransformerModel(num_features=X_train.shape[2], d_model=512, nhead=8, num_layers=6, dim_feedforward=2048)"
      ],
      "metadata": {
        "id": "4lVwnPxDPvqw"
      },
      "execution_count": 235,
      "outputs": []
    },
    {
      "cell_type": "code",
      "source": [
        "criterion = nn.MSELoss()\n",
        "optimizer = torch.optim.Adam(model.parameters(), lr=0.1)"
      ],
      "metadata": {
        "id": "a2w9kFmOQ-oI"
      },
      "execution_count": 236,
      "outputs": []
    },
    {
      "cell_type": "code",
      "source": [],
      "metadata": {
        "id": "fxqXmofYR0T1"
      },
      "execution_count": 236,
      "outputs": []
    },
    {
      "cell_type": "code",
      "source": [
        "# --- Validation loop ---\n",
        "def validate(model, val_loader, criterion):\n",
        "    model.eval()  # Set the model to evaluation mode\n",
        "    total_loss = 0\n",
        "    with torch.no_grad():  # No need to calculate gradients during validation\n",
        "        for src, target in val_loader:\n",
        "            output = model(src)\n",
        "            loss = criterion(output, target)\n",
        "            total_loss += loss.item()\n",
        "    return total_loss / len(val_loader)"
      ],
      "metadata": {
        "id": "kiHBBYw7UXzG"
      },
      "execution_count": 237,
      "outputs": []
    },
    {
      "cell_type": "code",
      "source": [
        "# --- Evaluation ---\n",
        "def evaluate(model, test_loader, criterion):\n",
        "    model.eval()\n",
        "    total_loss = 0\n",
        "    all_predictions = []\n",
        "    all_targets = []\n",
        "    with torch.no_grad():\n",
        "        for src, target in test_loader:\n",
        "            output = model(src)\n",
        "            loss = criterion(output, target)\n",
        "            total_loss += loss.item()\n",
        "            all_predictions.extend(output.tolist())  # Store predictions\n",
        "            all_targets.extend(target.tolist())  # Store true values\n",
        "\n",
        "    # Calculate evaluation metrics (e.g., RMSE)\n",
        "    rmse = np.sqrt(np.mean((np.array(all_predictions) - np.array(all_targets))**2))\n",
        "    return total_loss / len(test_loader), rmse"
      ],
      "metadata": {
        "id": "CNMKDbTGUX2e"
      },
      "execution_count": 238,
      "outputs": []
    },
    {
      "cell_type": "code",
      "source": [
        "# --- Training loop with validation ---\n",
        "for epoch in range(num_epochs):\n",
        "    # Training loop\n",
        "  for src, target in train_loader:\n",
        "      optimizer.zero_grad()\n",
        "      output = model(src)\n",
        "      loss = criterion(output, target)\n",
        "      loss.backward()\n",
        "      optimizer.step()\n",
        "  val_loss = validate(model, val_loader, criterion)\n",
        "  print(f'Epoch [{epoch+1}/{num_epochs}], Validation Loss: {val_loss:.4f}')"
      ],
      "metadata": {
        "colab": {
          "base_uri": "https://localhost:8080/"
        },
        "id": "A6rpzTvySTBz",
        "outputId": "240c43a0-5dce-4ce0-c78a-34705966c24a"
      },
      "execution_count": 239,
      "outputs": [
        {
          "output_type": "stream",
          "name": "stderr",
          "text": [
            "/usr/local/lib/python3.10/dist-packages/torch/nn/modules/loss.py:608: UserWarning: Using a target size (torch.Size([64])) that is different to the input size (torch.Size([64, 1])). This will likely lead to incorrect results due to broadcasting. Please ensure they have the same size.\n",
            "  return F.mse_loss(input, target, reduction=self.reduction)\n",
            "/usr/local/lib/python3.10/dist-packages/torch/nn/modules/loss.py:608: UserWarning: Using a target size (torch.Size([59])) that is different to the input size (torch.Size([59, 1])). This will likely lead to incorrect results due to broadcasting. Please ensure they have the same size.\n",
            "  return F.mse_loss(input, target, reduction=self.reduction)\n",
            "/usr/local/lib/python3.10/dist-packages/torch/nn/modules/loss.py:608: UserWarning: Using a target size (torch.Size([14])) that is different to the input size (torch.Size([14, 1])). This will likely lead to incorrect results due to broadcasting. Please ensure they have the same size.\n",
            "  return F.mse_loss(input, target, reduction=self.reduction)\n"
          ]
        },
        {
          "output_type": "stream",
          "name": "stdout",
          "text": [
            "Epoch [1/10], Validation Loss: 10.6859\n",
            "Epoch [2/10], Validation Loss: 0.0247\n",
            "Epoch [3/10], Validation Loss: 0.0249\n",
            "Epoch [4/10], Validation Loss: 0.0258\n",
            "Epoch [5/10], Validation Loss: 0.0275\n",
            "Epoch [6/10], Validation Loss: 0.0238\n",
            "Epoch [7/10], Validation Loss: 0.0273\n",
            "Epoch [8/10], Validation Loss: 0.0275\n",
            "Epoch [9/10], Validation Loss: 0.0246\n",
            "Epoch [10/10], Validation Loss: 0.0282\n"
          ]
        }
      ]
    },
    {
      "cell_type": "code",
      "source": [
        "# --- Final evaluation ---\n",
        "test_loss, rmse = evaluate(model, test_loader, criterion)\n",
        "print(f'Test Loss: {test_loss:.4f}, RMSE: {rmse:.4f}')"
      ],
      "metadata": {
        "colab": {
          "base_uri": "https://localhost:8080/"
        },
        "id": "LCUeJ-BxUrFY",
        "outputId": "2a6ed639-f1a3-45c5-8b57-e96165721eb6"
      },
      "execution_count": 240,
      "outputs": [
        {
          "output_type": "stream",
          "name": "stdout",
          "text": [
            "Test Loss: 0.0262, RMSE: 0.1614\n"
          ]
        },
        {
          "output_type": "stream",
          "name": "stderr",
          "text": [
            "/usr/local/lib/python3.10/dist-packages/torch/nn/modules/loss.py:608: UserWarning: Using a target size (torch.Size([35])) that is different to the input size (torch.Size([35, 1])). This will likely lead to incorrect results due to broadcasting. Please ensure they have the same size.\n",
            "  return F.mse_loss(input, target, reduction=self.reduction)\n"
          ]
        }
      ]
    },
    {
      "cell_type": "code",
      "source": [
        "original_min = value_scaler.data_min_[0]\n",
        "original_max = value_scaler.data_max_[0]"
      ],
      "metadata": {
        "id": "_fNmeopHmzCd"
      },
      "execution_count": 243,
      "outputs": []
    },
    {
      "cell_type": "code",
      "source": [
        "original_min, original_max"
      ],
      "metadata": {
        "colab": {
          "base_uri": "https://localhost:8080/"
        },
        "id": "kHq1AHCunfOk",
        "outputId": "8d035287-2d4b-4ee1-b3bc-259288b6275a"
      },
      "execution_count": 244,
      "outputs": [
        {
          "output_type": "execute_result",
          "data": {
            "text/plain": [
              "(-12.2, 37.8)"
            ]
          },
          "metadata": {},
          "execution_count": 244
        }
      ]
    },
    {
      "cell_type": "code",
      "source": [
        "original_rmse = rmse * (original_max - original_min) + original_min"
      ],
      "metadata": {
        "id": "hSUP5TXKnggf"
      },
      "execution_count": 245,
      "outputs": []
    },
    {
      "cell_type": "code",
      "source": [
        "original_rmse"
      ],
      "metadata": {
        "colab": {
          "base_uri": "https://localhost:8080/"
        },
        "id": "imHd7D2Hnviu",
        "outputId": "6aa6bc53-67bb-4cdc-b1dd-3da563dcee1d"
      },
      "execution_count": 246,
      "outputs": [
        {
          "output_type": "execute_result",
          "data": {
            "text/plain": [
              "-4.130144317361564"
            ]
          },
          "metadata": {},
          "execution_count": 246
        }
      ]
    },
    {
      "cell_type": "code",
      "source": [],
      "metadata": {
        "id": "mo-x2GM3nwX8"
      },
      "execution_count": null,
      "outputs": []
    }
  ]
}